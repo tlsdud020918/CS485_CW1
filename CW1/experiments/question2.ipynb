{
 "cells": [
  {
   "cell_type": "code",
   "execution_count": 1,
   "metadata": {},
   "outputs": [],
   "source": [
    "import sys\n",
    "import os\n",
    "sys.path.append('../')\n",
    "\n",
    "from dataset.data import split_data\n",
    "from question1 import eigen\n",
    "from question2 import inc_pca\n",
    "\n",
    "from scipy import io\n",
    "import numpy as np\n",
    "import matplotlib.pyplot as plt\n",
    "import time\n",
    "import psutil\n",
    "from sklearn.neighbors import KNeighborsClassifier"
   ]
  },
  {
   "cell_type": "markdown",
   "metadata": {},
   "source": [
    "1. Further divide the training data equally into four subsets, each with 104 images"
   ]
  },
  {
   "cell_type": "code",
   "execution_count": 11,
   "metadata": {},
   "outputs": [],
   "source": [
    "data_path = \"../dataset/face.mat\"\n",
    "train_data, train_label, test_data, test_label = split_data(data_path)\n",
    "\n",
    "# 1. additional seperation of the training data\n",
    "train_data1 = train_data[:, 0::4]\n",
    "train_data2 = train_data[:, 1::4]\n",
    "train_data3 = train_data[:, 2::4]\n",
    "train_data4 = train_data[:, 3::4]\n",
    "\n",
    "train_label1 = train_label[0::4]\n",
    "train_label2 = train_label[1::4]\n",
    "train_label3 = train_label[2::4]\n",
    "train_label4 = train_label[3::4]\n",
    "\n",
    "train_data = np.hstack([train_data1, train_data2, train_data3, train_data4])\n",
    "train_label = np.concatenate([train_label1, train_label2, train_label3, train_label4])"
   ]
  },
  {
   "cell_type": "markdown",
   "metadata": {},
   "source": [
    "2. Perform Incremental PCA, and compare it with the counterpart i.e. batch PCA, and PCA \n",
    "trained only by the first subset\n",
    "\n",
    "    training time, reconstruction error, face recognition accuracy (using NN classification).   \n",
    "    * time 측정 시 eigen-decomposition 제외 무시해도 됨 -> eigen-decomposition 부분에만 time을 달면 됨"
   ]
  },
  {
   "cell_type": "code",
   "execution_count": 21,
   "metadata": {},
   "outputs": [
    {
     "name": "stdout",
     "output_type": "stream",
     "text": [
      "New batch eigen decomposition time: 0.04666 sec\n",
      "[incremental_pca_eigen_decomposition] memory usage:  201.17188 MB\n",
      "New batch eigen decomposition time: 0.06209 sec\n",
      "[incremental_pca_eigen_decomposition] memory usage:  304.47656 MB\n",
      "combined covariance matrix decomposition time: 0.01649 sec\n",
      "[incremental_pca_eigen_decomposition] memory usage:  357.09375 MB\n",
      "result shape:  (2576, 50) (50,)\n",
      "New batch eigen decomposition time: 0.04029 sec\n",
      "[incremental_pca_eigen_decomposition] memory usage:  302.42969 MB\n",
      "combined covariance matrix decomposition time: 0.02028 sec\n",
      "[incremental_pca_eigen_decomposition] memory usage:  355.04688 MB\n",
      "result shape:  (2576, 50) (50,)\n",
      "New batch eigen decomposition time: 0.03997 sec\n",
      "[incremental_pca_eigen_decomposition] memory usage:  302.42969 MB\n",
      "combined covariance matrix decomposition time: 0.04046 sec\n",
      "[incremental_pca_eigen_decomposition] memory usage:  355.05078 MB\n",
      "result shape:  (2576, 50) (50,)\n",
      "New batch eigen decomposition time: 0.03836 sec\n",
      "[incremental_pca_eigen_decomposition] memory usage:  199.85938 MB\n",
      "New batch eigen decomposition time: 0.02800 sec\n",
      "[incremental_pca_eigen_decomposition] memory usage:  303.16406 MB\n",
      "combined covariance matrix decomposition time: 0.03322 sec\n",
      "[incremental_pca_eigen_decomposition] memory usage:  355.78125 MB\n",
      "result shape:  (2576, 50) (50,)\n",
      "New batch eigen decomposition time: 0.03707 sec\n",
      "[incremental_pca_eigen_decomposition] memory usage:  302.10547 MB\n",
      "combined covariance matrix decomposition time: 0.01997 sec\n",
      "[incremental_pca_eigen_decomposition] memory usage:  355.03906 MB\n",
      "result shape:  (2576, 50) (50,)\n",
      "New batch eigen decomposition time: 0.03806 sec\n",
      "[incremental_pca_eigen_decomposition] memory usage:  302.43359 MB\n",
      "combined covariance matrix decomposition time: 0.02225 sec\n",
      "[incremental_pca_eigen_decomposition] memory usage:  355.05078 MB\n",
      "result shape:  (2576, 50) (50,)\n",
      "New batch eigen decomposition time: 0.06016 sec\n",
      "[incremental_pca_eigen_decomposition] memory usage:  201.17578 MB\n",
      "New batch eigen decomposition time: 0.08990 sec\n",
      "[incremental_pca_eigen_decomposition] memory usage:  304.48047 MB\n",
      "combined covariance matrix decomposition time: 0.03902 sec\n",
      "[incremental_pca_eigen_decomposition] memory usage:  355.77734 MB\n",
      "result shape:  (2576, 50) (50,)\n",
      "New batch eigen decomposition time: 0.04200 sec\n",
      "[incremental_pca_eigen_decomposition] memory usage:  302.10547 MB\n",
      "combined covariance matrix decomposition time: 0.04237 sec\n",
      "[incremental_pca_eigen_decomposition] memory usage:  355.03906 MB\n",
      "result shape:  (2576, 50) (50,)\n",
      "New batch eigen decomposition time: 0.03663 sec\n",
      "[incremental_pca_eigen_decomposition] memory usage:  302.43359 MB\n",
      "combined covariance matrix decomposition time: 0.03892 sec\n",
      "[incremental_pca_eigen_decomposition] memory usage:  355.05078 MB\n",
      "result shape:  (2576, 50) (50,)\n",
      "New batch eigen decomposition time: 0.02925 sec\n",
      "[incremental_pca_eigen_decomposition] memory usage:  199.21094 MB\n",
      "New batch eigen decomposition time: 0.02540 sec\n",
      "[incremental_pca_eigen_decomposition] memory usage:  303.16797 MB\n",
      "combined covariance matrix decomposition time: 0.02007 sec\n",
      "[incremental_pca_eigen_decomposition] memory usage:  356.09766 MB\n",
      "result shape:  (2576, 50) (50,)\n",
      "New batch eigen decomposition time: 0.05467 sec\n",
      "[incremental_pca_eigen_decomposition] memory usage:  302.43359 MB\n",
      "combined covariance matrix decomposition time: 0.02038 sec\n",
      "[incremental_pca_eigen_decomposition] memory usage:  355.05078 MB\n",
      "result shape:  (2576, 50) (50,)\n",
      "New batch eigen decomposition time: 0.04152 sec\n",
      "[incremental_pca_eigen_decomposition] memory usage:  302.43359 MB\n",
      "combined covariance matrix decomposition time: 0.02771 sec\n",
      "[incremental_pca_eigen_decomposition] memory usage:  355.05078 MB\n",
      "result shape:  (2576, 50) (50,)\n",
      "New batch eigen decomposition time: 0.06351 sec\n",
      "[incremental_pca_eigen_decomposition] memory usage:  201.17578 MB\n",
      "New batch eigen decomposition time: 0.03940 sec\n",
      "[incremental_pca_eigen_decomposition] memory usage:  304.48047 MB\n",
      "combined covariance matrix decomposition time: 0.04052 sec\n",
      "[incremental_pca_eigen_decomposition] memory usage:  357.09766 MB\n",
      "result shape:  (2576, 50) (50,)\n",
      "New batch eigen decomposition time: 0.07312 sec\n",
      "[incremental_pca_eigen_decomposition] memory usage:  302.43359 MB\n",
      "combined covariance matrix decomposition time: 0.02082 sec\n",
      "[incremental_pca_eigen_decomposition] memory usage:  355.05078 MB\n",
      "result shape:  (2576, 50) (50,)\n",
      "New batch eigen decomposition time: 0.02878 sec\n",
      "[incremental_pca_eigen_decomposition] memory usage:  302.43359 MB\n",
      "combined covariance matrix decomposition time: 0.04323 sec\n",
      "[incremental_pca_eigen_decomposition] memory usage:  355.05078 MB\n",
      "result shape:  (2576, 50) (50,)\n",
      "New batch eigen decomposition time: 0.04820 sec\n",
      "[incremental_pca_eigen_decomposition] memory usage:  199.85938 MB\n",
      "New batch eigen decomposition time: 0.03289 sec\n",
      "[incremental_pca_eigen_decomposition] memory usage:  303.16406 MB\n",
      "combined covariance matrix decomposition time: 0.02185 sec\n",
      "[incremental_pca_eigen_decomposition] memory usage:  355.78125 MB\n",
      "result shape:  (2576, 50) (50,)\n",
      "New batch eigen decomposition time: 0.03049 sec\n",
      "[incremental_pca_eigen_decomposition] memory usage:  302.10547 MB\n",
      "combined covariance matrix decomposition time: 0.02343 sec\n",
      "[incremental_pca_eigen_decomposition] memory usage:  355.03906 MB\n",
      "result shape:  (2576, 50) (50,)\n",
      "New batch eigen decomposition time: 0.03758 sec\n",
      "[incremental_pca_eigen_decomposition] memory usage:  302.43359 MB\n",
      "combined covariance matrix decomposition time: 0.04985 sec\n",
      "[incremental_pca_eigen_decomposition] memory usage:  355.05078 MB\n",
      "result shape:  (2576, 50) (50,)\n",
      "New batch eigen decomposition time: 0.04543 sec\n",
      "[incremental_pca_eigen_decomposition] memory usage:  201.17578 MB\n",
      "New batch eigen decomposition time: 0.03054 sec\n",
      "[incremental_pca_eigen_decomposition] memory usage:  304.48047 MB\n",
      "combined covariance matrix decomposition time: 0.02860 sec\n",
      "[incremental_pca_eigen_decomposition] memory usage:  355.77734 MB\n",
      "result shape:  (2576, 50) (50,)\n",
      "New batch eigen decomposition time: 0.02648 sec\n",
      "[incremental_pca_eigen_decomposition] memory usage:  302.10547 MB\n",
      "combined covariance matrix decomposition time: 0.03449 sec\n",
      "[incremental_pca_eigen_decomposition] memory usage:  355.03906 MB\n",
      "result shape:  (2576, 50) (50,)\n",
      "New batch eigen decomposition time: 0.04691 sec\n",
      "[incremental_pca_eigen_decomposition] memory usage:  302.43359 MB\n",
      "combined covariance matrix decomposition time: 0.02696 sec\n",
      "[incremental_pca_eigen_decomposition] memory usage:  355.05078 MB\n",
      "result shape:  (2576, 50) (50,)\n",
      "New batch eigen decomposition time: 0.05255 sec\n",
      "[incremental_pca_eigen_decomposition] memory usage:  199.21094 MB\n",
      "New batch eigen decomposition time: 0.02808 sec\n",
      "[incremental_pca_eigen_decomposition] memory usage:  303.16797 MB\n",
      "combined covariance matrix decomposition time: 0.03496 sec\n",
      "[incremental_pca_eigen_decomposition] memory usage:  356.09766 MB\n",
      "result shape:  (2576, 50) (50,)\n",
      "New batch eigen decomposition time: 0.03580 sec\n",
      "[incremental_pca_eigen_decomposition] memory usage:  302.43359 MB\n",
      "combined covariance matrix decomposition time: 0.02827 sec\n",
      "[incremental_pca_eigen_decomposition] memory usage:  355.05078 MB\n",
      "result shape:  (2576, 50) (50,)\n",
      "New batch eigen decomposition time: 0.04449 sec\n",
      "[incremental_pca_eigen_decomposition] memory usage:  302.43359 MB\n",
      "combined covariance matrix decomposition time: 0.03509 sec\n",
      "[incremental_pca_eigen_decomposition] memory usage:  355.05078 MB\n",
      "result shape:  (2576, 50) (50,)\n",
      "New batch eigen decomposition time: 0.03937 sec\n",
      "[incremental_pca_eigen_decomposition] memory usage:  201.17578 MB\n",
      "New batch eigen decomposition time: 0.02933 sec\n",
      "[incremental_pca_eigen_decomposition] memory usage:  304.48047 MB\n",
      "combined covariance matrix decomposition time: 0.01973 sec\n",
      "[incremental_pca_eigen_decomposition] memory usage:  357.09766 MB\n",
      "result shape:  (2576, 50) (50,)\n",
      "New batch eigen decomposition time: 0.03300 sec\n",
      "[incremental_pca_eigen_decomposition] memory usage:  302.43359 MB\n",
      "combined covariance matrix decomposition time: 0.05231 sec\n",
      "[incremental_pca_eigen_decomposition] memory usage:  355.05078 MB\n",
      "result shape:  (2576, 50) (50,)\n",
      "New batch eigen decomposition time: 0.03420 sec\n",
      "[incremental_pca_eigen_decomposition] memory usage:  302.43359 MB\n",
      "combined covariance matrix decomposition time: 0.04685 sec\n",
      "[incremental_pca_eigen_decomposition] memory usage:  355.05078 MB\n",
      "result shape:  (2576, 50) (50,)\n",
      "New batch eigen decomposition time: 0.04414 sec\n",
      "[incremental_pca_eigen_decomposition] memory usage:  199.85938 MB\n",
      "New batch eigen decomposition time: 0.03273 sec\n",
      "[incremental_pca_eigen_decomposition] memory usage:  303.16406 MB\n",
      "combined covariance matrix decomposition time: 0.04288 sec\n",
      "[incremental_pca_eigen_decomposition] memory usage:  355.78125 MB\n",
      "result shape:  (2576, 50) (50,)\n",
      "New batch eigen decomposition time: 0.04533 sec\n",
      "[incremental_pca_eigen_decomposition] memory usage:  302.10547 MB\n",
      "combined covariance matrix decomposition time: 0.03303 sec\n",
      "[incremental_pca_eigen_decomposition] memory usage:  355.03906 MB\n",
      "result shape:  (2576, 50) (50,)\n",
      "New batch eigen decomposition time: 0.03503 sec\n",
      "[incremental_pca_eigen_decomposition] memory usage:  302.43359 MB\n",
      "combined covariance matrix decomposition time: 0.03149 sec\n",
      "[incremental_pca_eigen_decomposition] memory usage:  355.05078 MB\n",
      "result shape:  (2576, 50) (50,)\n"
     ]
    }
   ],
   "source": [
    "# Incremental PCA: calculate batch time and memory, average of 10-time execution\n",
    "total_time = []\n",
    "batch_time = []\n",
    "combine_time = []\n",
    "memory_usage = []\n",
    "for i in range (10):\n",
    "    ipca = inc_pca.IncrementalPCA(n_components=50, check_performance = True)\n",
    "    eigvals, eigvecs = ipca.fit(train_data, 104)\n",
    "    batch_time.append(ipca.new_batch_t)\n",
    "    combine_time.append(ipca.combine_t)\n",
    "    memory_usage.append(ipca.combine_m)"
   ]
  },
  {
   "cell_type": "code",
   "execution_count": 19,
   "metadata": {},
   "outputs": [
    {
     "name": "stdout",
     "output_type": "stream",
     "text": [
      "time\n",
      "[0.02951359748840332, 0.02308940887451172, 0.02816033363342285, 0.03240513801574707]\n",
      "[0.0, 0.029072046279907227, 0.021047353744506836, 0.023463726043701172]\n",
      "mem\n",
      "[199.20703125, 303.1640625, 302.4296875, 302.4296875]\n",
      "[0.0, 356.09375, 355.046875, 355.046875]\n"
     ]
    }
   ],
   "source": [
    "print(\"time\")\n",
    "print(ipca.new_batch_t)\n",
    "print(ipca.combine_t)\n",
    "print(\"mem\")\n",
    "print(ipca.new_batch_m)\n",
    "print(ipca.combine_m)\n",
    "\n",
    "#print(ipca.eigenval)"
   ]
  },
  {
   "cell_type": "code",
   "execution_count": 22,
   "metadata": {},
   "outputs": [
    {
     "name": "stdout",
     "output_type": "stream",
     "text": [
      "[0.04676313 0.03983629 0.0418273  0.03831799]\n",
      "[0.         0.02973506 0.0295357  0.03628094]\n",
      "[0.04676313 0.06957135 0.071363   0.07459893]\n",
      "[  0.         356.23828125 355.04453125 355.05078125]\n"
     ]
    }
   ],
   "source": [
    "# average calculation: 여기서 total time이 training time으로 쓰일 수 있음\n",
    "batch_time = np.array(batch_time)\n",
    "combine_time = np.array(combine_time)\n",
    "memory_usage = np.array(memory_usage)\n",
    "\n",
    "batch_time_avg = batch_time.mean(axis=0)\n",
    "combine_time_avg = combine_time[:, 1:].mean(axis=0)\n",
    "combine_time_avg = np.concatenate(([0.0], combine_time_avg), axis=0)\n",
    "total_time = batch_time_avg + combine_time_avg\n",
    "\n",
    "memory_usage_avg = memory_usage.mean(axis=0)\n",
    "\n",
    "print(batch_time_avg)\n",
    "print(combine_time_avg)\n",
    "print(total_time)\n",
    "print(memory_usage_avg)"
   ]
  },
  {
   "cell_type": "markdown",
   "metadata": {},
   "source": [
    "-> how accurate your incremental method is, what important parameters in the method are???"
   ]
  },
  {
   "cell_type": "code",
   "execution_count": 25,
   "metadata": {},
   "outputs": [
    {
     "name": "stdout",
     "output_type": "stream",
     "text": [
      "[916420.71213223 536260.72828332 450658.20970479 253402.13754361\n",
      " 221169.88932295]\n",
      " 0.03208 sec\n",
      "[pca] memory usage:  210.00391 MB\n",
      " 0.14990 sec\n",
      "[pca] memory usage:  208.28906 MB\n",
      " 0.45804 sec\n",
      "[pca] memory usage:  214.08594 MB\n",
      " 1.11707 sec\n",
      "[pca] memory usage:  221.54688 MB\n",
      "[0.03207969665527344, 0.1499018669128418, 0.4580376148223877, 1.1170709133148193]\n",
      "[210.00390625, 208.2890625, 214.0859375, 221.546875]\n"
     ]
    }
   ],
   "source": [
    "mean_face = np.mean(train_data, axis=1).reshape(-1, 1)\n",
    "val_batch, vec_batch = eigen.pca(train_data, mean_face)\n",
    "print(val_batch[:5])\n",
    "\n",
    "batch_size = 104\n",
    "\n",
    "pca_time = []\n",
    "pca_mem = []\n",
    "for i in range (4):\n",
    "    cur_train_data = train_data[:, :(i+1) * 104]\n",
    "    cur_train_label = train_label[:(i+1) * 104]\n",
    "    mean_face = np.mean(cur_train_data, axis=1).reshape(-1, 1)\n",
    "    val_batch, vec_batch, t, m = eigen.pca_perf(cur_train_data, mean_face)\n",
    "    pca_time.append(t)\n",
    "    pca_mem.append(m)\n",
    "print(pca_time)\n",
    "print(pca_mem)"
   ]
  },
  {
   "cell_type": "code",
   "execution_count": 64,
   "metadata": {},
   "outputs": [],
   "source": [
    "# saving\n",
    "# 결과 제대로 나왔을때만 키기\n",
    "io.savemat('inc-batch-timemem.mat', {'inc_time':total_time, 'inc_batch_time': batch_time_avg,\n",
    "                                     'inc_comb_time': combine_time_avg, 'inc_mem': memory_usage_avg,\n",
    "                                     'batch_time': pca_time, 'batch_mem': pca_mem})\n"
   ]
  },
  {
   "cell_type": "code",
   "execution_count": 89,
   "metadata": {},
   "outputs": [
    {
     "name": "stdout",
     "output_type": "stream",
     "text": [
      "(4,) (4,)\n"
     ]
    },
    {
     "data": {
      "image/png": "[encoded data removed]",
      "text/plain": [
       "<Figure size 1200x400 with 2 Axes>"
      ]
     },
     "metadata": {},
     "output_type": "display_data"
    }
   ],
   "source": [
    "# 1. batch vs inc PCA, time and memory\n",
    "base_dir = os.getcwd()  \n",
    "full_data_path = os.path.join(base_dir, \"./inc-batch-timemem.mat\")\n",
    "file = io.loadmat(full_data_path)\n",
    "inc_time = np.array(file[\"inc_time\"]).flatten()\n",
    "inc_mem = np.array(file[\"inc_mem\"]).flatten()\n",
    "batch_time = np.array(file[\"batch_time\"]).flatten()\n",
    "batch_mem = np.array(file[\"batch_mem\"]).flatten()\n",
    "\n",
    "graph = plt.figure(figsize=(12, 4))\n",
    "ax1 = graph.add_subplot(121)\n",
    "ax2 = graph.add_subplot(122)\n",
    "X = np.arange(104, 417, 104)\n",
    "print(X.shape, inc_time.shape)\n",
    "\n",
    "ax1.plot(X, inc_time, color='b', label='incremental PCA')\n",
    "ax1.plot(X, batch_time, color='r', label='batch PCA')\n",
    "ax1.set_xlabel('number of train data')\n",
    "ax1.set_ylabel('training time (sec)')\n",
    "ax1.legend()\n",
    "\n",
    "ax2.plot(X, inc_mem, color='b', label='incremental PCA')\n",
    "ax2.plot(X, batch_mem, color='r', label='batch PCA')\n",
    "ax2.set_xlabel('number of train data')\n",
    "ax2.set_ylabel('memory usage (MB)')\n",
    "\n",
    "plt.suptitle('Incremental PCA vs Batch PCA: training time and memory')\n",
    "# 결과 제대로 나왔을때만 키기\n",
    "#plt.savefig('q2-fig1', dpi=300)"
   ]
  },
  {
   "cell_type": "code",
   "execution_count": 6,
   "metadata": {},
   "outputs": [
    {
     "name": "stdout",
     "output_type": "stream",
     "text": [
      "result shape:  (2576, 50) (50,)\n",
      "result shape:  (2576, 50) (50,)\n",
      "result shape:  (2576, 50) (50,)\n"
     ]
    }
   ],
   "source": [
    "pca_mean = []\n",
    "pca_eigenvec = []\n",
    "pca_eigenval = []\n",
    "for i in range (4):\n",
    "    cur_train_data = train_data[:, :(i+1) * 104]\n",
    "    cur_train_label = train_label[:(i+1) * 104]\n",
    "    mean_face = np.mean(cur_train_data, axis=1).reshape(-1, 1)\n",
    "    val_batch, vec_batch = eigen.pca(cur_train_data, mean_face)\n",
    "    pca_mean.append(mean_face)\n",
    "    pca_eigenvec.append(vec_batch)\n",
    "    pca_eigenval.append(val_batch)\n",
    "\n",
    "ipca = inc_pca.IncrementalPCA(n_components=50, step_save=True)\n",
    "eigvals, eigvecs = ipca.fit(train_data, 104)"
   ]
  },
  {
   "cell_type": "code",
   "execution_count": 10,
   "metadata": {},
   "outputs": [
    {
     "name": "stdout",
     "output_type": "stream",
     "text": [
      "[1. 1. 1. 1.] [1.         0.90095859 0.89137504 0.8561277 ]\n"
     ]
    }
   ],
   "source": [
    "# 2. batch vs inc PCA, eigenvector/mean cosine similarity by first 50 components\n",
    "#idx 0, 1, 2, 3에 각각 104, 208, 312, 416 train data에서 similarity가 들어감\n",
    "from sklearn.metrics.pairwise import cosine_similarity\n",
    "\n",
    "mean_similarity = []\n",
    "vec_similarity = []\n",
    "for i in range (4):\n",
    "    cur_batch_mean = pca_mean[i]\n",
    "    cur_batch_vec = pca_eigenvec[i][:,:50]\n",
    "    cur_inc_mean = ipca.step_mean[i]\n",
    "    cur_inc_vec = ipca.step_eigenvec[i]\n",
    "\n",
    "    mean_similarity.append(cosine_similarity(cur_batch_mean.T, cur_inc_mean.T))\n",
    "    vec_similarity.append(np.diag(cosine_similarity(cur_batch_vec.T, cur_inc_vec.T)))\n",
    "\n",
    "mean_similarity = np.array(mean_similarity).flatten()\n",
    "vec_similarity = abs(np.array(vec_similarity)).mean(axis=1)\n",
    "\n",
    "# 1, 2, 3, 4 batch에서 mean / eigenvector cosine similarity\n",
    "print(mean_similarity, vec_similarity)"
   ]
  },
  {
   "cell_type": "code",
   "execution_count": null,
   "metadata": {},
   "outputs": [],
   "source": [
    "# 3. batch vs inc PCA, reconstruction error by first 50 components\n"
   ]
  },
  {
   "cell_type": "code",
   "execution_count": null,
   "metadata": {},
   "outputs": [],
   "source": [
    "# 4. batch vs inc PCA, KNN classification accuracy by first 50 components\n"
   ]
  },
  {
   "cell_type": "code",
   "execution_count": null,
   "metadata": {},
   "outputs": [],
   "source": [
    "# draw graph of 2, 3, 4\n",
    "graph = plt.figure(figsize=(12, 4))\n",
    "ax1 = graph.add_subplot(121)\n",
    "ax2 = graph.add_subplot(122)\n",
    "X = np.arange(104, 417, 104)\n",
    "print(X.shape, inc_time.shape)\n",
    "\n",
    "ax1.plot(X, inc_time, color='b', label='incremental PCA')\n",
    "ax1.plot(X, batch_time, color='r', label='batch PCA')\n",
    "ax1.set_xlabel('number of train data')\n",
    "ax1.set_ylabel('training time (sec)')\n",
    "ax1.legend()\n",
    "\n",
    "ax2.plot(X, inc_mem, color='b', label='incremental PCA')\n",
    "ax2.plot(X, batch_mem, color='r', label='batch PCA')\n",
    "ax2.set_xlabel('number of train data')\n",
    "ax2.set_ylabel('memory usage (MB)')\n",
    "\n",
    "plt.suptitle('Incremental PCA vs Batch PCA: training time and memory')\n",
    "plt.savefig('q2-fig1', dpi=300)"
   ]
  },
  {
   "cell_type": "code",
   "execution_count": 23,
   "metadata": {},
   "outputs": [],
   "source": [
    "%load_ext autoreload\n",
    "%autoreload 2\n",
    "%reload_ext autoreload"
   ]
  }
 ],
 "metadata": {
  "kernelspec": {
   "display_name": "cs484_hw",
   "language": "python",
   "name": "python3"
  },
  "language_info": {
   "codemirror_mode": {
    "name": "ipython",
    "version": 3
   },
   "file_extension": ".py",
   "mimetype": "text/x-python",
   "name": "python",
   "nbconvert_exporter": "python",
   "pygments_lexer": "ipython3",
   "version": "3.8.17"
  }
 },
 "nbformat": 4,
 "nbformat_minor": 2
}
