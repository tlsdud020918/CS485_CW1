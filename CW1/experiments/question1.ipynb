{
 "cells": [
  {
   "cell_type": "markdown",
   "metadata": {},
   "source": [
    "Q1.  \n",
    "[10] Eigenfaces \n",
    "1. data partition 하기\n",
    "2. S=(1/N)AAT : train data에 PCA 적용\n",
    " including: the eigenvectors, the eigenvalues, and the mean image, how many eigenvectors with non-zero eigenvalues are obtained and how many eigenvectors are to be used for face recognition.\n",
    "3. S=(1/N)ATA : train data에 PCA 적용, 2와 비교\n",
    " including: if the eigenvectors and eigenvalues obtained are identical, what are the pros/cons of each method. (Show respective measurements)\n",
    "\n",
    "[15] Application of Eigenfaces \n",
    "1. face image reconstruction \n",
    " 변수: varying the number of bases \n",
    " including: if the reconstruction error (or the distortion measure) obtained is same as in the theory, how good the reconstruction / results are for at least 3 images of your choice (e.g. from both the training and testing dataset). \n",
    "2. PCA-based face recognition \n",
    " 변수: 아키텍쳐에서 사용된 parameter를 달리하여 실험할 것\n",
    " including: accuracy, example success and failure cases, the confusion matrices, time/memory"
   ]
  },
  {
   "cell_type": "code",
   "execution_count": 9,
   "metadata": {},
   "outputs": [],
   "source": [
    "import sys\n",
    "sys.path.append('../')\n",
    "\n",
    "from dataset.data import split_data\n",
    "from question1 import eigen\n",
    "\n",
    "import numpy as np\n",
    "import matplotlib.pyplot as plt\n",
    "import time\n",
    "import psutil"
   ]
  },
  {
   "cell_type": "code",
   "execution_count": 11,
   "metadata": {},
   "outputs": [],
   "source": [
    "# 1. split data using data.py function\n",
    "train_data, train_label, test_data, test_label = split_data(data_path=\"../dataset/face.mat\")\n",
    "mean_face = np.mean(train_data, axis=1).reshape(-1, 1)"
   ]
  },
  {
   "cell_type": "code",
   "execution_count": null,
   "metadata": {},
   "outputs": [],
   "source": [
    "# 2. "
   ]
  },
  {
   "cell_type": "code",
   "execution_count": null,
   "metadata": {},
   "outputs": [],
   "source": []
  },
  {
   "cell_type": "code",
   "execution_count": null,
   "metadata": {},
   "outputs": [],
   "source": []
  }
 ],
 "metadata": {
  "kernelspec": {
   "display_name": "cs484_hw",
   "language": "python",
   "name": "python3"
  },
  "language_info": {
   "codemirror_mode": {
    "name": "ipython",
    "version": 3
   },
   "file_extension": ".py",
   "mimetype": "text/x-python",
   "name": "python",
   "nbconvert_exporter": "python",
   "pygments_lexer": "ipython3",
   "version": "3.8.17"
  }
 },
 "nbformat": 4,
 "nbformat_minor": 2
}
